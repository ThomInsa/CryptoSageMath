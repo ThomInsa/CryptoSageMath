{
 "cells": [
  {
   "metadata": {},
   "cell_type": "markdown",
   "source": "## Crypto",
   "id": "8a77807f92f26ee"
  },
  {
   "metadata": {},
   "cell_type": "markdown",
   "source": "### Exercice 10",
   "id": "d0e43f6930928f2f"
  },
  {
   "metadata": {
    "ExecuteTime": {
     "end_time": "2025-01-29T18:53:11.430861Z",
     "start_time": "2025-01-29T18:53:11.418787Z"
    }
   },
   "cell_type": "code",
   "source": [
    "from sympy import randprime, gcd, mod_inverse, isprime, nextprime, factorint\n",
    "import random\n",
    "\n",
    "r = random.randrange(10, 50)\n",
    "g = gcd(56, 98)\n",
    "b = isprime(29)\n",
    "p = nextprime(100)\n",
    "facteurs = factorint(120)\n",
    "\n",
    "print(r)\n",
    "print(g)\n",
    "print(b)\n",
    "print(p)\n",
    "print(facteurs)"
   ],
   "id": "7df9140457caed5e",
   "outputs": [
    {
     "name": "stdout",
     "output_type": "stream",
     "text": [
      "48\n",
      "14\n",
      "True\n",
      "101\n",
      "{2: 3, 3: 1, 5: 1}\n"
     ]
    }
   ],
   "execution_count": 9
  },
  {
   "metadata": {},
   "cell_type": "markdown",
   "source": "### Exercice 11",
   "id": "45d6c5f00e492f37"
  },
  {
   "metadata": {
    "ExecuteTime": {
     "end_time": "2025-01-29T18:57:56.526988Z",
     "start_time": "2025-01-29T18:57:56.521692Z"
    }
   },
   "cell_type": "code",
   "source": "from crypto import *",
   "id": "aa4a9445daafd8e1",
   "outputs": [],
   "execution_count": 16
  },
  {
   "metadata": {
    "ExecuteTime": {
     "end_time": "2025-01-29T18:57:57.450016Z",
     "start_time": "2025-01-29T18:57:57.438903Z"
    }
   },
   "cell_type": "code",
   "source": [
    "a = 14\n",
    "b = 30\n",
    "my_gcd(a, b) == gcd(a, b)"
   ],
   "id": "e3d1d63f8ec47fc0",
   "outputs": [
    {
     "data": {
      "text/plain": [
       "True"
      ]
     },
     "execution_count": 17,
     "metadata": {},
     "output_type": "execute_result"
    }
   ],
   "execution_count": 17
  },
  {
   "metadata": {
    "ExecuteTime": {
     "end_time": "2025-01-29T19:01:35.038206Z",
     "start_time": "2025-01-29T19:01:35.032419Z"
    }
   },
   "cell_type": "code",
   "source": [
    "prime = 7\n",
    "non_prime = 12\n",
    "print(my_is_prime(prime) == isprime(prime))\n",
    "print(my_is_prime(non_prime) == isprime(non_prime))"
   ],
   "id": "4aca3464c8d6034f",
   "outputs": [
    {
     "name": "stdout",
     "output_type": "stream",
     "text": [
      "True\n",
      "True\n"
     ]
    }
   ],
   "execution_count": 18
  },
  {
   "metadata": {
    "ExecuteTime": {
     "end_time": "2025-01-29T19:03:22.411996Z",
     "start_time": "2025-01-29T19:03:22.405934Z"
    }
   },
   "cell_type": "code",
   "source": [
    "print(my_next_prime(prime) == nextprime(prime))\n",
    "print(my_next_prime(non_prime) == nextprime(non_prime))"
   ],
   "id": "462fdab46322befe",
   "outputs": [
    {
     "name": "stdout",
     "output_type": "stream",
     "text": [
      "True\n",
      "True\n"
     ]
    }
   ],
   "execution_count": 19
  },
  {
   "metadata": {},
   "cell_type": "markdown",
   "source": "### Exercice 12",
   "id": "9d7b82881eaa1ff9"
  },
  {
   "metadata": {
    "jupyter": {
     "is_executing": true
    },
    "ExecuteTime": {
     "start_time": "2025-01-29T19:04:34.999896Z"
    }
   },
   "cell_type": "code",
   "source": "test_factor()",
   "id": "dd749423d885d9dd",
   "outputs": [
    {
     "name": "stdout",
     "output_type": "stream",
     "text": [
      "8 194.78797912597656\n",
      "9 44.10743713378906\n",
      "10 61.03515625\n",
      "11 13.113021850585938\n",
      "12 124.93133544921875\n",
      "13 41.00799560546875\n",
      "14 132.08389282226562\n",
      "15 6430.149078369141\n",
      "16 2231.121063232422\n",
      "17 1449.8233795166016\n",
      "18 1178.9798736572266\n",
      "19 1272.9167938232422\n",
      "20 1546.8597412109375\n",
      "21 1266.0026550292969\n",
      "22 3136.157989501953\n",
      "23 3381.013870239258\n",
      "24 1635.0746154785156\n",
      "25 1750.7076263427734\n",
      "26 1116.9910430908203\n",
      "27 55018.90182495117\n",
      "28 7174.015045166016\n",
      "29 49886.94190979004\n",
      "30 8017.063140869141\n",
      "31 23321.866989135742\n",
      "32 61643.123626708984\n",
      "33 102361.20223999023\n",
      "34 54260.0154876709\n",
      "35 7843.017578125\n",
      "36 636639.8334503174\n",
      "37 115489.24446105957\n",
      "38 824090.0039672852\n",
      "39 897.1691131591797\n",
      "40 8582.353591918945\n",
      "41 252012.9680633545\n",
      "42 399361.84883117676\n",
      "43 327322.95989990234\n",
      "44 604012.0124816895\n",
      "45 183166.2654876709\n",
      "46 21610.021591186523\n",
      "47 238911.86714172363\n",
      "48 1049.7570037841797\n",
      "49 423020.1244354248\n",
      "50 421124.9351501465\n",
      "51 334561.1095428467\n",
      "52 1076146.8410491943\n",
      "53 986555.0994873047\n",
      "54 230443.95446777344\n",
      "55 1019000.0534057617\n",
      "56 940508.8424682617\n",
      "57 1163784.0270996094\n",
      "58 2592386.00730896\n",
      "59 234037.1608734131\n",
      "60 1032776.1173248291\n",
      "61 4695389.032363892\n",
      "62 706035.1371765137\n",
      "63 271725.1777648926\n",
      "64 3649842.0238494873\n",
      "65 11695791.959762573\n",
      "66 978442.907333374\n",
      "67 6037468.194961548\n",
      "68 37952025.175094604\n",
      "69 995283.842086792\n",
      "70 18275141.23916626\n",
      "71 10685212.850570679\n",
      "72 30725156.06880188\n",
      "73 3188943.1476593018\n",
      "74 19232611.179351807\n",
      "75 41729852.91481018\n",
      "76 13570538.997650146\n",
      "77 125498661.27967834\n",
      "78 61404237.74719238\n",
      "79 29913745.880126953\n",
      "80 15689439.058303833\n",
      "81 49817822.93319702\n",
      "82 281849483.7284088\n",
      "83 49598971.128463745\n",
      "84 20389183.044433594\n",
      "85 40017792.94013977\n",
      "86 319595267.0574188\n"
     ]
    }
   ],
   "execution_count": null
  },
  {
   "metadata": {},
   "cell_type": "markdown",
   "source": "### Exercice 13",
   "id": "cf1993b2ca59a005"
  },
  {
   "metadata": {},
   "cell_type": "code",
   "outputs": [],
   "execution_count": null,
   "source": [
    "l = 512\n",
    "(e, N), d = rsa_gen(l)"
   ],
   "id": "48e7e3907102a09f"
  },
  {
   "metadata": {},
   "cell_type": "code",
   "outputs": [],
   "execution_count": null,
   "source": [
    "message1 = \"Hello, World!\"\n",
    "cipher1 = rsa_enc(e, N, message1)\n",
    "decipher1 = rsa_dec(e, N, message1)\n",
    "print(message1)\n",
    "print(cipher1)\n",
    "print(decipher1)"
   ],
   "id": "12ad3e9207c424ab"
  },
  {
   "metadata": {},
   "cell_type": "code",
   "outputs": [],
   "execution_count": null,
   "source": [
    "message2 = \"This is a simple message.\"\n",
    "cipher2 = rsa_enc(e, N, message1)\n",
    "decipher2 = rsa_dec(e, N, message1)\n",
    "print(message2)\n",
    "print(cipher2)\n",
    "print(decipher2)"
   ],
   "id": "134da63528117b0b"
  },
  {
   "metadata": {},
   "cell_type": "markdown",
   "source": "### Exercice 14",
   "id": "5603ce311005e90e"
  },
  {
   "metadata": {},
   "cell_type": "code",
   "outputs": [],
   "execution_count": null,
   "source": [
    "q, p, g = eg_set(l)\n",
    "sk, pk = eg_gen(q, p, g)"
   ],
   "id": "c72704b0f09fa253"
  },
  {
   "metadata": {},
   "cell_type": "code",
   "outputs": [],
   "execution_count": null,
   "source": [
    "eg_message = \"This to test ElGamal\"\n",
    "eg_cipher = eg_enc(q, p, g, pk, eg_message)\n",
    "eg_decipher = eg_dec(q, p, g, sk, eg_cipher)"
   ],
   "id": "b4609772204f84a7"
  },
  {
   "metadata": {},
   "cell_type": "code",
   "outputs": [],
   "execution_count": null,
   "source": [
    "print(eg_message)\n",
    "print(eg_cipher)\n",
    "print(eg_decipher)"
   ],
   "id": "26c6bc5826d97113"
  },
  {
   "metadata": {},
   "cell_type": "code",
   "outputs": [],
   "execution_count": null,
   "source": "",
   "id": "70b256bd349b6efb"
  }
 ],
 "metadata": {
  "kernelspec": {
   "display_name": "Python 3",
   "language": "python",
   "name": "python3"
  },
  "language_info": {
   "codemirror_mode": {
    "name": "ipython",
    "version": 2
   },
   "file_extension": ".py",
   "mimetype": "text/x-python",
   "name": "python",
   "nbconvert_exporter": "python",
   "pygments_lexer": "ipython2",
   "version": "2.7.6"
  }
 },
 "nbformat": 4,
 "nbformat_minor": 5
}
